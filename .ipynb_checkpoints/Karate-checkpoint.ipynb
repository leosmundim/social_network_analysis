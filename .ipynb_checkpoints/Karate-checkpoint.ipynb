{
 "cells": [
  {
   "cell_type": "code",
   "execution_count": 7,
   "id": "3576769c",
   "metadata": {},
   "outputs": [
    {
     "name": "stdout",
     "output_type": "stream",
     "text": [
      "Requirement already satisfied: igraph in c:\\users\\leo\\anaconda3\\lib\\site-packages (0.10.0)\n",
      "Requirement already satisfied: texttable>=1.6.2 in c:\\users\\leo\\anaconda3\\lib\\site-packages (from igraph) (1.6.4)\n"
     ]
    }
   ],
   "source": [
    "import pandas as pd\n",
    "import numpy as np\n",
    "!pip install igraph\n",
    "from igraph import *"
   ]
  },
  {
   "cell_type": "code",
   "execution_count": 88,
   "id": "dff9e0ea",
   "metadata": {},
   "outputs": [
    {
     "name": "stdout",
     "output_type": "stream",
     "text": [
      "Requirement already satisfied: xcffib in c:\\users\\leo\\anaconda3\\lib\\site-packages (0.11.1)\n",
      "Requirement already satisfied: six in c:\\users\\leo\\anaconda3\\lib\\site-packages (from xcffib) (1.16.0)\n",
      "Requirement already satisfied: cffi>=1.1.0 in c:\\users\\leo\\anaconda3\\lib\\site-packages (from xcffib) (1.15.0)\n",
      "Requirement already satisfied: pycparser in c:\\users\\leo\\anaconda3\\lib\\site-packages (from cffi>=1.1.0->xcffib) (2.21)\n",
      "Requirement already satisfied: cairocffi in c:\\users\\leo\\anaconda3\\lib\\site-packages (1.0.0)\n",
      "Requirement already satisfied: cffi>=1.1.0 in c:\\users\\leo\\anaconda3\\lib\\site-packages (from cairocffi) (1.15.0)\n",
      "Requirement already satisfied: pycparser in c:\\users\\leo\\anaconda3\\lib\\site-packages (from cffi>=1.1.0->cairocffi) (2.21)\n"
     ]
    }
   ],
   "source": [
    "!pip install xcffib\n",
    "!pip install cairocffi"
   ]
  },
  {
   "cell_type": "code",
   "execution_count": 92,
   "id": "b6a4d795",
   "metadata": {},
   "outputs": [
    {
     "name": "stdout",
     "output_type": "stream",
     "text": [
      "0.10.0\n"
     ]
    }
   ],
   "source": [
    "print(igraph.__version__)"
   ]
  },
  {
   "cell_type": "code",
   "execution_count": 90,
   "id": "8fe5cc1a",
   "metadata": {},
   "outputs": [
    {
     "ename": "OSError",
     "evalue": "cannot load library 'libxcb.dll': error 0x7e",
     "output_type": "error",
     "traceback": [
      "\u001b[1;31m---------------------------------------------------------------------------\u001b[0m",
      "\u001b[1;31mOSError\u001b[0m                                   Traceback (most recent call last)",
      "Input \u001b[1;32mIn [90]\u001b[0m, in \u001b[0;36m<cell line: 1>\u001b[1;34m()\u001b[0m\n\u001b[1;32m----> 1\u001b[0m \u001b[38;5;28;01mimport\u001b[39;00m \u001b[38;5;21;01mxcffib\u001b[39;00m\n\u001b[0;32m      2\u001b[0m \u001b[38;5;28;01mimport\u001b[39;00m \u001b[38;5;21;01mcairocffi\u001b[39;00m \u001b[38;5;28;01mas\u001b[39;00m \u001b[38;5;21;01mcairo\u001b[39;00m\n",
      "File \u001b[1;32m~\\anaconda3\\lib\\site-packages\\xcffib\\__init__.py:38\u001b[0m, in \u001b[0;36m<module>\u001b[1;34m\u001b[0m\n\u001b[0;32m     36\u001b[0m     \u001b[38;5;28;01mif\u001b[39;00m soname \u001b[38;5;129;01mis\u001b[39;00m \u001b[38;5;28;01mNone\u001b[39;00m:\n\u001b[0;32m     37\u001b[0m         soname \u001b[38;5;241m=\u001b[39m \u001b[38;5;124m\"\u001b[39m\u001b[38;5;124mlibxcb.so\u001b[39m\u001b[38;5;124m\"\u001b[39m\n\u001b[1;32m---> 38\u001b[0m lib \u001b[38;5;241m=\u001b[39m \u001b[43mffi\u001b[49m\u001b[38;5;241;43m.\u001b[39;49m\u001b[43mdlopen\u001b[49m\u001b[43m(\u001b[49m\u001b[43msoname\u001b[49m\u001b[43m)\u001b[49m\n\u001b[0;32m     40\u001b[0m __xcb_proto_version__ \u001b[38;5;241m=\u001b[39m \u001b[38;5;124m\"\u001b[39m\u001b[38;5;124m1.14\u001b[39m\u001b[38;5;124m\"\u001b[39m\n\u001b[0;32m     41\u001b[0m __version__ \u001b[38;5;241m=\u001b[39m \u001b[38;5;124m\"\u001b[39m\u001b[38;5;124m0.11.1\u001b[39m\u001b[38;5;124m\"\u001b[39m\n",
      "\u001b[1;31mOSError\u001b[0m: cannot load library 'libxcb.dll': error 0x7e"
     ]
    }
   ],
   "source": [
    "import xcffib\n",
    "import cairocffi as cairo"
   ]
  },
  {
   "cell_type": "code",
   "execution_count": 82,
   "id": "c31ddbbf",
   "metadata": {},
   "outputs": [],
   "source": [
    "g = Graph()"
   ]
  },
  {
   "cell_type": "code",
   "execution_count": 68,
   "id": "25cdebf8",
   "metadata": {},
   "outputs": [],
   "source": [
    "rh = pd.read_excel('rede_rh.xlsx')"
   ]
  },
  {
   "cell_type": "code",
   "execution_count": 69,
   "id": "5a701a71",
   "metadata": {},
   "outputs": [],
   "source": [
    "rh =g.DataFrame(rh, directed=False, use_vids=False)"
   ]
  },
  {
   "cell_type": "code",
   "execution_count": 70,
   "id": "1206e21d",
   "metadata": {},
   "outputs": [
    {
     "name": "stdout",
     "output_type": "stream",
     "text": [
      "IGRAPH UNW- 18 35 --\n",
      "+ attr: name (v), weight (e)\n",
      "+ edges (vertex names):\n",
      "   Angel -- Chang, Polark, Weng\n",
      "Zhuo -- Christop, Gotti, Graffe, Hund, Nardo, Oliver, Patrick\n",
      "   Chang -- Angel, Polark, Weng\n",
      " Chapman -- Gotti, Oliver, Snopp, Yu\n",
      "Christop -- Gotti, Nardo, Yu, Zhuo\n",
      "   Gotti -- Chapman, Christop, Kabutz, Leon, Nardo, Oliver, Patrick, Zhuo\n",
      "  Graffe -- Hund, Yu, Zhuo\n",
      "Gukrishn -- Kabutz, Leon, Snopp\n",
      "    Hund -- Graffe, Zhuo\n",
      "  Kabutz -- Gotti, Gukrishn, Leon, Snopp\n",
      "    Leon -- Gotti, Gukrishn, Kabutz, Snopp\n",
      "   Nardo -- Christop, Gotti, Zhuo\n",
      "  Oliver -- Chapman, Gotti, Patrick, Zhuo\n",
      " Patrick -- Gotti, Oliver, Zhuo\n",
      "  Polark -- Angel, Chang, Weng, Yu\n",
      "   Snopp -- Chapman, Gukrishn, Kabutz, Leon\n",
      "    Weng -- Angel, Chang, Polark\n",
      "      Yu -- Chapman, Christop, Graffe, Polark\n"
     ]
    }
   ],
   "source": [
    "print(rh)"
   ]
  },
  {
   "cell_type": "code",
   "execution_count": 91,
   "id": "f6e21c4c",
   "metadata": {},
   "outputs": [
    {
     "ename": "AttributeError",
     "evalue": "'Graph' object has no attribute 'plot'",
     "output_type": "error",
     "traceback": [
      "\u001b[1;31m---------------------------------------------------------------------------\u001b[0m",
      "\u001b[1;31mAttributeError\u001b[0m                            Traceback (most recent call last)",
      "Input \u001b[1;32mIn [91]\u001b[0m, in \u001b[0;36m<cell line: 1>\u001b[1;34m()\u001b[0m\n\u001b[1;32m----> 1\u001b[0m \u001b[43mg\u001b[49m\u001b[38;5;241;43m.\u001b[39;49m\u001b[43mplot\u001b[49m(rh, target\u001b[38;5;241m=\u001b[39mcairo)\n",
      "\u001b[1;31mAttributeError\u001b[0m: 'Graph' object has no attribute 'plot'"
     ]
    }
   ],
   "source": [
    "g.plot(rh, target=cairo)"
   ]
  },
  {
   "cell_type": "code",
   "execution_count": 74,
   "id": "40fe28a3",
   "metadata": {},
   "outputs": [
    {
     "ename": "AttributeError",
     "evalue": "'Graph' object has no attribute 'plot'",
     "output_type": "error",
     "traceback": [
      "\u001b[1;31m---------------------------------------------------------------------------\u001b[0m",
      "\u001b[1;31mAttributeError\u001b[0m                            Traceback (most recent call last)",
      "Input \u001b[1;32mIn [74]\u001b[0m, in \u001b[0;36m<cell line: 3>\u001b[1;34m()\u001b[0m\n\u001b[0;32m      1\u001b[0m \u001b[38;5;28;01mimport\u001b[39;00m \u001b[38;5;21;01mmatplotlib\u001b[39;00m\u001b[38;5;21;01m.\u001b[39;00m\u001b[38;5;21;01mpyplot\u001b[39;00m \u001b[38;5;28;01mas\u001b[39;00m \u001b[38;5;21;01mplt\u001b[39;00m\n\u001b[0;32m      2\u001b[0m fig, ax \u001b[38;5;241m=\u001b[39m plt\u001b[38;5;241m.\u001b[39msubplots(figsize\u001b[38;5;241m=\u001b[39m(\u001b[38;5;241m5\u001b[39m,\u001b[38;5;241m5\u001b[39m))\n\u001b[1;32m----> 3\u001b[0m \u001b[43mg\u001b[49m\u001b[38;5;241;43m.\u001b[39;49m\u001b[43mplot\u001b[49m(\n\u001b[0;32m      4\u001b[0m     rh,\n\u001b[0;32m      5\u001b[0m     target\u001b[38;5;241m=\u001b[39max,\n\u001b[0;32m      6\u001b[0m     layout\u001b[38;5;241m=\u001b[39m\u001b[38;5;124m\"\u001b[39m\u001b[38;5;124mcircle\u001b[39m\u001b[38;5;124m\"\u001b[39m, \u001b[38;5;66;03m# print nodes in a circular layout\u001b[39;00m\n\u001b[0;32m      7\u001b[0m     vertex_size\u001b[38;5;241m=\u001b[39m\u001b[38;5;241m0.1\u001b[39m,\n\u001b[0;32m      8\u001b[0m     vertex_frame_width\u001b[38;5;241m=\u001b[39m\u001b[38;5;241m4.0\u001b[39m,\n\u001b[0;32m      9\u001b[0m     vertex_frame_color\u001b[38;5;241m=\u001b[39m\u001b[38;5;124m\"\u001b[39m\u001b[38;5;124mwhite\u001b[39m\u001b[38;5;124m\"\u001b[39m,\n\u001b[0;32m     10\u001b[0m     vertex_label\u001b[38;5;241m=\u001b[39mg\u001b[38;5;241m.\u001b[39mvs[\u001b[38;5;124m\"\u001b[39m\u001b[38;5;124mnames\u001b[39m\u001b[38;5;124m\"\u001b[39m],\n\u001b[0;32m     11\u001b[0m     vertex_label_size\u001b[38;5;241m=\u001b[39m\u001b[38;5;241m7.0\u001b[39m,\n\u001b[0;32m     12\u001b[0m )\n\u001b[0;32m     14\u001b[0m plt\u001b[38;5;241m.\u001b[39mshow()\n",
      "\u001b[1;31mAttributeError\u001b[0m: 'Graph' object has no attribute 'plot'"
     ]
    },
    {
     "data": {
      "image/png": "[encoded data removed]",
      "text/plain": [
       "<Figure size 360x360 with 1 Axes>"
      ]
     },
     "metadata": {
      "needs_background": "light"
     },
     "output_type": "display_data"
    }
   ],
   "source": [
    "import matplotlib.pyplot as plt\n",
    "fig, ax = plt.subplots(figsize=(5,5))\n",
    "g.plot(\n",
    "    rh,\n",
    "    target=ax,\n",
    "    layout=\"circle\", # print nodes in a circular layout\n",
    "    vertex_size=0.1,\n",
    "    vertex_frame_width=4.0,\n",
    "    vertex_frame_color=\"white\",\n",
    "    vertex_label=g.vs[\"names\"],\n",
    "    vertex_label_size=7.0,\n",
    ")\n",
    "\n",
    "plt.show()\n"
   ]
  },
  {
   "cell_type": "code",
   "execution_count": null,
   "id": "54eca7c6",
   "metadata": {},
   "outputs": [],
   "source": []
  }
 ],
 "metadata": {
  "kernelspec": {
   "display_name": "Python 3 (ipykernel)",
   "language": "python",
   "name": "python3"
  },
  "language_info": {
   "codemirror_mode": {
    "name": "ipython",
    "version": 3
   },
   "file_extension": ".py",
   "mimetype": "text/x-python",
   "name": "python",
   "nbconvert_exporter": "python",
   "pygments_lexer": "ipython3",
   "version": "3.9.12"
  }
 },
 "nbformat": 4,
 "nbformat_minor": 5
}
